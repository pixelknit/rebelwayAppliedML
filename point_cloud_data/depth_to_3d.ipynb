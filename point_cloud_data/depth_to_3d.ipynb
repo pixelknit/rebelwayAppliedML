{
 "cells": [
  {
   "cell_type": "code",
   "execution_count": 2,
   "metadata": {},
   "outputs": [],
   "source": [
    "import sys\n",
    "import os\n",
    "from PIL import Image\n",
    "import cv2"
   ]
  },
  {
   "cell_type": "code",
   "execution_count": 28,
   "metadata": {},
   "outputs": [],
   "source": [
    "focal_length = 800.0\n",
    "scaling_factor = 2000.0\n"
   ]
  },
  {
   "cell_type": "code",
   "execution_count": 29,
   "metadata": {},
   "outputs": [],
   "source": [
    "def generate_point_cloud(rgb_file, depth_file, ply_file):\n",
    "    rgb = Image.open(rgb_file).convert(\"RGB\")\n",
    "    depth = Image.open(depth_file).convert(\"I\")\n",
    "    depth = depth.resize(rgb.size)\n",
    "\n",
    "    centerX = rgb.size[1] / 2\n",
    "    centerY = rgb.size[0] / 2\n",
    "\n",
    "    if rgb.size != depth.size:\n",
    "        raise Exception(\"Color and depth image do not have the same resolution.\")\n",
    "    if rgb.mode != \"RGB\":\n",
    "        raise Exception(\"Color image is not in RGB format\")\n",
    "    if depth.mode != \"I\":\n",
    "        raise Exception(\"Depth image is not in intensity format\")\n",
    "\n",
    "\n",
    "    points = []    \n",
    "    for v in range(rgb.size[1]):\n",
    "        for u in range(rgb.size[0]):\n",
    "            color = rgb.getpixel((u,v))\n",
    "            Z = depth.getpixel((u,v)) / scaling_factor\n",
    "            if Z==0: continue\n",
    "            X = (u - centerX) * Z / focal_length\n",
    "            Y = (v - centerY) * Z / focal_length\n",
    "            points.append(\"%f %f %f %d %d %d 0\\n\"%(X,Y,Z,color[0],color[1],color[2]))\n",
    "    file = open(ply_file,\"w\")\n",
    "    file.write('''ply\n",
    "format ascii 1.0\n",
    "element vertex %d\n",
    "property float x\n",
    "property float y\n",
    "property float z\n",
    "property uchar red\n",
    "property uchar green\n",
    "property uchar blue\n",
    "property uchar alpha\n",
    "end_header\n",
    "%s\n",
    "'''%(len(points),\"\".join(points)))\n",
    "    file.close()\n",
    "    "
   ]
  },
  {
   "cell_type": "code",
   "execution_count": 30,
   "metadata": {},
   "outputs": [],
   "source": [
    "rgb_file = \"man_color.png\"\n",
    "depth_file = \"man_depth.png\"\n",
    "ply_file = \"result.ply\""
   ]
  },
  {
   "cell_type": "code",
   "execution_count": 31,
   "metadata": {},
   "outputs": [],
   "source": [
    "generate_point_cloud(rgb_file, depth_file, ply_file)"
   ]
  },
  {
   "cell_type": "code",
   "execution_count": null,
   "metadata": {},
   "outputs": [],
   "source": []
  }
 ],
 "metadata": {
  "kernelspec": {
   "display_name": "cv2",
   "language": "python",
   "name": "python3"
  },
  "language_info": {
   "codemirror_mode": {
    "name": "ipython",
    "version": 3
   },
   "file_extension": ".py",
   "mimetype": "text/x-python",
   "name": "python",
   "nbconvert_exporter": "python",
   "pygments_lexer": "ipython3",
   "version": "3.11.10"
  }
 },
 "nbformat": 4,
 "nbformat_minor": 2
}
