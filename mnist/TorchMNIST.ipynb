{
  "nbformat": 4,
  "nbformat_minor": 0,
  "metadata": {
    "colab": {
      "provenance": [],
      "gpuType": "T4"
    },
    "kernelspec": {
      "name": "python3",
      "display_name": "Python 3"
    },
    "language_info": {
      "name": "python"
    },
    "accelerator": "GPU"
  },
  "cells": [
    {
      "cell_type": "code",
      "source": [
        "import torch\n",
        "import torch.nn as nn\n",
        "from torch.utils.data import DataLoader\n",
        "from torchvision import datasets, transforms\n",
        "import matplotlib.pyplot as plt\n",
        "\n",
        "training_data = datasets.MNIST(\n",
        "    root=\"data\",\n",
        "    train=True,\n",
        "    download=True,\n",
        "    transform=transforms.Compose([transforms.ToTensor()])\n",
        ")\n",
        "\n",
        "test_data = datasets.MNIST(\n",
        "    root=\"data\",\n",
        "    train=False,\n",
        "    download=True,\n",
        "    transform=transforms.Compose([transforms.ToTensor()])\n",
        ")"
      ],
      "metadata": {
        "id": "mfykutWFOJ9G",
        "colab": {
          "base_uri": "https://localhost:8080/"
        },
        "outputId": "f1f3c47b-12a4-4c29-ccb7-13b68d62e89d"
      },
      "execution_count": null,
      "outputs": [
        {
          "output_type": "stream",
          "name": "stdout",
          "text": [
            "Downloading http://yann.lecun.com/exdb/mnist/train-images-idx3-ubyte.gz\n",
            "Failed to download (trying next):\n",
            "HTTP Error 403: Forbidden\n",
            "\n",
            "Downloading https://ossci-datasets.s3.amazonaws.com/mnist/train-images-idx3-ubyte.gz\n",
            "Downloading https://ossci-datasets.s3.amazonaws.com/mnist/train-images-idx3-ubyte.gz to data/MNIST/raw/train-images-idx3-ubyte.gz\n"
          ]
        },
        {
          "output_type": "stream",
          "name": "stderr",
          "text": [
            "100%|██████████| 9.91M/9.91M [00:02<00:00, 4.56MB/s]\n"
          ]
        },
        {
          "output_type": "stream",
          "name": "stdout",
          "text": [
            "Extracting data/MNIST/raw/train-images-idx3-ubyte.gz to data/MNIST/raw\n",
            "\n",
            "Downloading http://yann.lecun.com/exdb/mnist/train-labels-idx1-ubyte.gz\n",
            "Failed to download (trying next):\n",
            "HTTP Error 403: Forbidden\n",
            "\n",
            "Downloading https://ossci-datasets.s3.amazonaws.com/mnist/train-labels-idx1-ubyte.gz\n",
            "Downloading https://ossci-datasets.s3.amazonaws.com/mnist/train-labels-idx1-ubyte.gz to data/MNIST/raw/train-labels-idx1-ubyte.gz\n"
          ]
        },
        {
          "output_type": "stream",
          "name": "stderr",
          "text": [
            "100%|██████████| 28.9k/28.9k [00:00<00:00, 134kB/s]\n"
          ]
        },
        {
          "output_type": "stream",
          "name": "stdout",
          "text": [
            "Extracting data/MNIST/raw/train-labels-idx1-ubyte.gz to data/MNIST/raw\n",
            "\n",
            "Downloading http://yann.lecun.com/exdb/mnist/t10k-images-idx3-ubyte.gz\n",
            "Failed to download (trying next):\n",
            "HTTP Error 403: Forbidden\n",
            "\n",
            "Downloading https://ossci-datasets.s3.amazonaws.com/mnist/t10k-images-idx3-ubyte.gz\n",
            "Downloading https://ossci-datasets.s3.amazonaws.com/mnist/t10k-images-idx3-ubyte.gz to data/MNIST/raw/t10k-images-idx3-ubyte.gz\n"
          ]
        },
        {
          "output_type": "stream",
          "name": "stderr",
          "text": [
            "100%|██████████| 1.65M/1.65M [00:01<00:00, 1.26MB/s]\n"
          ]
        },
        {
          "output_type": "stream",
          "name": "stdout",
          "text": [
            "Extracting data/MNIST/raw/t10k-images-idx3-ubyte.gz to data/MNIST/raw\n",
            "\n",
            "Downloading http://yann.lecun.com/exdb/mnist/t10k-labels-idx1-ubyte.gz\n",
            "Failed to download (trying next):\n",
            "HTTP Error 403: Forbidden\n",
            "\n",
            "Downloading https://ossci-datasets.s3.amazonaws.com/mnist/t10k-labels-idx1-ubyte.gz\n",
            "Downloading https://ossci-datasets.s3.amazonaws.com/mnist/t10k-labels-idx1-ubyte.gz to data/MNIST/raw/t10k-labels-idx1-ubyte.gz\n"
          ]
        },
        {
          "output_type": "stream",
          "name": "stderr",
          "text": [
            "100%|██████████| 4.54k/4.54k [00:00<00:00, 3.27MB/s]"
          ]
        },
        {
          "output_type": "stream",
          "name": "stdout",
          "text": [
            "Extracting data/MNIST/raw/t10k-labels-idx1-ubyte.gz to data/MNIST/raw\n",
            "\n"
          ]
        },
        {
          "output_type": "stream",
          "name": "stderr",
          "text": [
            "\n"
          ]
        }
      ]
    },
    {
      "cell_type": "code",
      "source": [
        "batch_size = 64\n",
        "train_dataloader = DataLoader(training_data, batch_size=batch_size)\n",
        "test_dataloader = DataLoader(test_data, batch_size=batch_size)\n",
        "\n",
        "device = \"cuda\" if torch.cuda.is_available() else \"cpu\"\n",
        "print(f\"Using {device} device\")"
      ],
      "metadata": {
        "colab": {
          "base_uri": "https://localhost:8080/"
        },
        "id": "sgz4hzO5P-Ca",
        "outputId": "a9dc1df3-88f0-460d-85ab-d1bad6fc9933"
      },
      "execution_count": null,
      "outputs": [
        {
          "output_type": "stream",
          "name": "stdout",
          "text": [
            "Using cuda device\n"
          ]
        }
      ]
    },
    {
      "cell_type": "code",
      "source": [
        "from logging import log\n",
        "class Net(nn.Module):\n",
        "  def __init__(self):\n",
        "    super().__init__()\n",
        "    self.flatten = nn.Flatten()\n",
        "    self.linear_relu = nn.Sequential(\n",
        "        nn.Linear(28*28, 512),\n",
        "        nn.ReLU(),\n",
        "        nn.Linear(512, 512),\n",
        "        nn.ReLU(),\n",
        "        nn.Linear(512, 10)\n",
        "    )\n",
        "\n",
        "  def forward(self, x):\n",
        "    x = self.flatten(x)\n",
        "    logits = self.linear_relu(x)\n",
        "    return logits\n",
        "\n",
        "\n",
        "model = Net().to(device)\n",
        "print(model)"
      ],
      "metadata": {
        "colab": {
          "base_uri": "https://localhost:8080/"
        },
        "id": "97G9sIxVP96k",
        "outputId": "6f59fd58-704a-4e6e-a491-d4f4357b9fa8"
      },
      "execution_count": null,
      "outputs": [
        {
          "output_type": "stream",
          "name": "stdout",
          "text": [
            "Net(\n",
            "  (flatten): Flatten(start_dim=1, end_dim=-1)\n",
            "  (linear_relu): Sequential(\n",
            "    (0): Linear(in_features=784, out_features=512, bias=True)\n",
            "    (1): ReLU()\n",
            "    (2): Linear(in_features=512, out_features=512, bias=True)\n",
            "    (3): ReLU()\n",
            "    (4): Linear(in_features=512, out_features=10, bias=True)\n",
            "  )\n",
            ")\n"
          ]
        }
      ]
    },
    {
      "cell_type": "code",
      "source": [
        "loss_fn = nn.CrossEntropyLoss()\n",
        "optimizer = torch.optim.Adam(model.parameters(), lr=1e-3)\n",
        "\n",
        "def train(dataloader, model, loss_fn, optimizer):\n",
        "  size = len(dataloader.dataset)\n",
        "  model.train()\n",
        "\n",
        "  for batch, (X,y) in enumerate(dataloader):\n",
        "    X,y = X.to(device), y.to(device)\n",
        "\n",
        "    pred = model(X)\n",
        "    loss = loss_fn(pred,y)\n",
        "\n",
        "    loss.backward()\n",
        "    optimizer.step()\n",
        "    optimizer.zero_grad()\n",
        "\n",
        "    if batch % 100 == 0:\n",
        "      loss, current = loss.item(), batch * len(X)\n",
        "      print(f\"loss: {loss:>7f} [{current:>5d}/{size:>5d}]\")\n",
        "\n",
        "def test(dataloader, model, loss_fn):\n",
        "  size = len(dataloader.dataset)\n",
        "  num_batches = len(dataloader)\n",
        "  model.eval()\n",
        "  test_loss, correct = 0,0\n",
        "\n",
        "  with torch.inference_mode():\n",
        "    for X,y in dataloader:\n",
        "      X,y = X.to(device), y.to(device)\n",
        "      pred = model(X)\n",
        "      test_loss += loss_fn(pred, y).item()\n",
        "      correct += (pred.argmax(1) == y).type(torch.float).sum().item()\n",
        "\n",
        "  test_loss /= num_batches\n",
        "  correct /= size\n",
        "  print(f\"Test Error: \\n Accuracy: {(100*correct):>0.1f}%, Avg loss: {test_loss:>8f} \\n\")\n",
        "\n"
      ],
      "metadata": {
        "id": "F9R49EH6P92O"
      },
      "execution_count": null,
      "outputs": []
    },
    {
      "cell_type": "code",
      "source": [
        "epochs = 5\n",
        "\n",
        "for t in range(epochs):\n",
        "  print(f\"Epoch {t+1}\\n-------------------------------\")\n",
        "  train(train_dataloader, model, loss_fn, optimizer)\n",
        "  test(test_dataloader, model, loss_fn)\n",
        "print(\"Done!\")"
      ],
      "metadata": {
        "colab": {
          "base_uri": "https://localhost:8080/"
        },
        "id": "ZpjAG1XWP9tf",
        "outputId": "d2f085ad-0536-4819-c4e6-b7a558f051a8"
      },
      "execution_count": null,
      "outputs": [
        {
          "output_type": "stream",
          "name": "stdout",
          "text": [
            "Epoch 1\n",
            "-------------------------------\n",
            "loss: 2.300249 [    0/60000]\n",
            "loss: 0.270104 [ 6400/60000]\n",
            "loss: 0.189709 [12800/60000]\n",
            "loss: 0.256206 [19200/60000]\n",
            "loss: 0.154080 [25600/60000]\n",
            "loss: 0.308158 [32000/60000]\n",
            "loss: 0.132931 [38400/60000]\n",
            "loss: 0.259164 [44800/60000]\n",
            "loss: 0.289694 [51200/60000]\n",
            "loss: 0.171225 [57600/60000]\n",
            "Test Error: \n",
            " Accuracy: 95.8%, Avg loss: 0.133384 \n",
            "\n",
            "Epoch 2\n",
            "-------------------------------\n",
            "loss: 0.084424 [    0/60000]\n",
            "loss: 0.077652 [ 6400/60000]\n",
            "loss: 0.085432 [12800/60000]\n",
            "loss: 0.052928 [19200/60000]\n",
            "loss: 0.045256 [25600/60000]\n",
            "loss: 0.109529 [32000/60000]\n",
            "loss: 0.057815 [38400/60000]\n",
            "loss: 0.100518 [44800/60000]\n",
            "loss: 0.095929 [51200/60000]\n",
            "loss: 0.075896 [57600/60000]\n",
            "Test Error: \n",
            " Accuracy: 97.0%, Avg loss: 0.096184 \n",
            "\n",
            "Epoch 3\n",
            "-------------------------------\n",
            "loss: 0.036577 [    0/60000]\n",
            "loss: 0.056785 [ 6400/60000]\n",
            "loss: 0.040269 [12800/60000]\n",
            "loss: 0.064657 [19200/60000]\n",
            "loss: 0.036664 [25600/60000]\n",
            "loss: 0.048727 [32000/60000]\n",
            "loss: 0.034347 [38400/60000]\n",
            "loss: 0.079727 [44800/60000]\n",
            "loss: 0.067878 [51200/60000]\n",
            "loss: 0.052961 [57600/60000]\n",
            "Test Error: \n",
            " Accuracy: 97.5%, Avg loss: 0.087860 \n",
            "\n",
            "Epoch 4\n",
            "-------------------------------\n",
            "loss: 0.020462 [    0/60000]\n",
            "loss: 0.017345 [ 6400/60000]\n",
            "loss: 0.092416 [12800/60000]\n",
            "loss: 0.051708 [19200/60000]\n",
            "loss: 0.052974 [25600/60000]\n",
            "loss: 0.063302 [32000/60000]\n",
            "loss: 0.041018 [38400/60000]\n",
            "loss: 0.031928 [44800/60000]\n",
            "loss: 0.049635 [51200/60000]\n",
            "loss: 0.023338 [57600/60000]\n",
            "Test Error: \n",
            " Accuracy: 97.6%, Avg loss: 0.092578 \n",
            "\n",
            "Epoch 5\n",
            "-------------------------------\n",
            "loss: 0.024215 [    0/60000]\n",
            "loss: 0.010552 [ 6400/60000]\n",
            "loss: 0.035758 [12800/60000]\n",
            "loss: 0.079548 [19200/60000]\n",
            "loss: 0.041536 [25600/60000]\n",
            "loss: 0.010348 [32000/60000]\n",
            "loss: 0.012919 [38400/60000]\n",
            "loss: 0.032034 [44800/60000]\n",
            "loss: 0.084081 [51200/60000]\n",
            "loss: 0.032531 [57600/60000]\n",
            "Test Error: \n",
            " Accuracy: 97.4%, Avg loss: 0.097546 \n",
            "\n",
            "Done!\n"
          ]
        }
      ]
    },
    {
      "cell_type": "code",
      "source": [
        "# Save the model\n",
        "torch.save(model.state_dict(), 'mnist_model.pth')\n",
        "\n",
        "print('Model trained and saved.')"
      ],
      "metadata": {
        "colab": {
          "base_uri": "https://localhost:8080/"
        },
        "id": "HVDsNoodAwPH",
        "outputId": "90796ee3-e634-4eb4-dd8f-a0d83ec446bb"
      },
      "execution_count": null,
      "outputs": [
        {
          "output_type": "stream",
          "name": "stdout",
          "text": [
            "Model trained and saved.\n"
          ]
        }
      ]
    },
    {
      "cell_type": "code",
      "source": [
        "\n",
        "# Load the saved model\n",
        "model = Net().to(device)\n",
        "model.load_state_dict(torch.load('mnist_model.pth', weights_only=True))\n",
        "model.eval()\n",
        "\n",
        "from PIL import Image\n",
        "\n",
        "image_path = '2.png'\n",
        "image = Image.open(image_path).convert('L')\n",
        "transform = transforms.Compose([\n",
        "    transforms.ToTensor(),\n",
        "    transforms.Resize((28, 28))\n",
        "])\n",
        "image = transform(image).to(device)\n",
        "\n",
        "# Make a prediction\n",
        "with torch.no_grad():\n",
        "    output = model(image)\n",
        "    prediction = torch.argmax(output).item()\n",
        "\n",
        "print(f'Predicted digit: {prediction}')"
      ],
      "metadata": {
        "id": "ENyeavh1BfGo",
        "colab": {
          "base_uri": "https://localhost:8080/"
        },
        "outputId": "fb05b725-f2d5-49f3-807b-0f5ecaec534b"
      },
      "execution_count": null,
      "outputs": [
        {
          "output_type": "stream",
          "name": "stdout",
          "text": [
            "Predicted digit: 2\n"
          ]
        }
      ]
    },
    {
      "cell_type": "code",
      "source": [],
      "metadata": {
        "id": "2pVP0AEulmhG"
      },
      "execution_count": null,
      "outputs": []
    }
  ]
}